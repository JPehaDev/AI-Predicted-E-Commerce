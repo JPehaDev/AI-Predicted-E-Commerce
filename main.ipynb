{
 "cells": [
  {
   "cell_type": "code",
   "execution_count": 1,
   "id": "9a73dbe3-762f-408c-9ce5-de7872e9f551",
   "metadata": {},
   "outputs": [
    {
     "name": "stderr",
     "output_type": "stream",
     "text": [
      "c:\\Users\\JOSEPH PECHA\\AppData\\Local\\Programs\\Python\\Python311\\Lib\\site-packages\\sklearn\\base.py:329: UserWarning: Trying to unpickle estimator LabelEncoder from version 1.3.2 when using version 1.1.3. This might lead to breaking code or invalid results. Use at your own risk. For more info please refer to:\n",
      "https://scikit-learn.org/stable/model_persistence.html#security-maintainability-limitations\n",
      "  warnings.warn(\n"
     ]
    }
   ],
   "source": [
    "from src.preprocessdata import main_preprocessdata\n",
    "from src.train import main_train\n",
    "from src.predict import main_predict"
   ]
  },
  {
   "cell_type": "code",
   "execution_count": 2,
   "id": "afa78046-be25-4ec3-82a0-9836e7fce9f3",
   "metadata": {},
   "outputs": [
    {
     "name": "stdout",
     "output_type": "stream",
     "text": [
      "Data save in ./data/pre-processing/\n"
     ]
    }
   ],
   "source": [
    "main_preprocessdata()"
   ]
  },
  {
   "cell_type": "code",
   "execution_count": 3,
   "id": "3ecbb5e5-5460-408c-a543-ec24c7cc2801",
   "metadata": {},
   "outputs": [
    {
     "name": "stderr",
     "output_type": "stream",
     "text": [
      "Some weights of DistilBertForSequenceClassification were not initialized from the model checkpoint at distilbert-base-uncased-finetuned-sst-2-english and are newly initialized because the shapes did not match:\n",
      "- classifier.bias: found shape torch.Size([2]) in the checkpoint and torch.Size([102]) in the model instantiated\n",
      "- classifier.weight: found shape torch.Size([2, 768]) in the checkpoint and torch.Size([102, 768]) in the model instantiated\n",
      "You should probably TRAIN this model on a down-stream task to be able to use it for predictions and inference.\n",
      "c:\\Users\\JOSEPH PECHA\\AppData\\Local\\Programs\\Python\\Python311\\Lib\\site-packages\\transformers\\optimization.py:429: FutureWarning: This implementation of AdamW is deprecated and will be removed in a future version. Use the PyTorch implementation torch.optim.AdamW instead, or set `no_deprecation_warning=True` to disable this warning\n",
      "  warnings.warn(\n"
     ]
    },
    {
     "data": {
      "application/vnd.jupyter.widget-view+json": {
       "model_id": "3c7f13cdb63c4357af0e68eed81f39f7",
       "version_major": 2,
       "version_minor": 0
      },
      "text/plain": [
       "  0%|          | 0/1937 [00:00<?, ?it/s]"
      ]
     },
     "metadata": {},
     "output_type": "display_data"
    },
    {
     "data": {
      "application/vnd.jupyter.widget-view+json": {
       "model_id": "10c26de8ee77463fb9e7c6e31f78c67e",
       "version_major": 2,
       "version_minor": 0
      },
      "text/plain": [
       "  0%|          | 0/1937 [00:00<?, ?it/s]"
      ]
     },
     "metadata": {},
     "output_type": "display_data"
    },
    {
     "data": {
      "application/vnd.jupyter.widget-view+json": {
       "model_id": "7bee0aaf910f423eb5e66eb0a0641c80",
       "version_major": 2,
       "version_minor": 0
      },
      "text/plain": [
       "  0%|          | 0/1937 [00:00<?, ?it/s]"
      ]
     },
     "metadata": {},
     "output_type": "display_data"
    },
    {
     "data": {
      "application/vnd.jupyter.widget-view+json": {
       "model_id": "ee580795e5194e6b8dc82853d53da961",
       "version_major": 2,
       "version_minor": 0
      },
      "text/plain": [
       "  0%|          | 0/646 [00:00<?, ?it/s]"
      ]
     },
     "metadata": {},
     "output_type": "display_data"
    },
    {
     "name": "stdout",
     "output_type": "stream",
     "text": [
      "Validation metrics mean_accuracy: 0.0029992260970175266, f1 weighted: 1.7961200069826266e-05, f1 micro: 0.0030012585923129055, f1 macro: 5.86721174956469e-05\n"
     ]
    },
    {
     "data": {
      "application/vnd.jupyter.widget-view+json": {
       "model_id": "9e66778a18174473ab570f4b40bf6f21",
       "version_major": 2,
       "version_minor": 0
      },
      "text/plain": [
       "  0%|          | 0/646 [00:00<?, ?it/s]"
      ]
     },
     "metadata": {},
     "output_type": "display_data"
    },
    {
     "name": "stdout",
     "output_type": "stream",
     "text": [
      "Test metrics mean_accuracy: 0.0029992260970175266, f1 weighted: 1.795772795686557e-05, f1 micro: 0.003000968054211036, f1 macro: 5.866645471044319e-05\n",
      "Save tokenize in ./models/tokenizer/\n",
      "Save model in ./models/classifier/\n"
     ]
    }
   ],
   "source": [
    "main_train()"
   ]
  },
  {
   "cell_type": "code",
   "execution_count": 4,
   "id": "1d41222f-a575-4250-900a-fa97388ee5ba",
   "metadata": {},
   "outputs": [],
   "source": [
    "name = \"Altec - Hard Shell Fashion Case for Apple® iPhone® 5 and 5s - Purple/Gray\"\n",
    "description = \"ALTEC Hard Shell Fashion Case for Apple iPhone 5 and 5s: Compatible with Apple iPhone 5 and 5s; scratch-resistant material; play-through design; shock-resistant up to 2\"\n",
    "category = \"pcmcat214700050000\""
   ]
  },
  {
   "cell_type": "code",
   "execution_count": 5,
   "id": "7f9bd15e-9ed3-45c6-9bc1-857d58a31e53",
   "metadata": {},
   "outputs": [
    {
     "data": {
      "text/plain": [
       "'pcmcat214700050000'"
      ]
     },
     "execution_count": 5,
     "metadata": {},
     "output_type": "execute_result"
    }
   ],
   "source": [
    "category_pred = main_predict(name, description)\n",
    "category_pred"
   ]
  },
  {
   "cell_type": "code",
   "execution_count": 6,
   "id": "bf312c58-a200-4e29-9703-bcaeed89c7dc",
   "metadata": {},
   "outputs": [
    {
     "data": {
      "text/plain": [
       "True"
      ]
     },
     "execution_count": 6,
     "metadata": {},
     "output_type": "execute_result"
    }
   ],
   "source": [
    "category == category_pred"
   ]
  }
 ],
 "metadata": {
  "kernelspec": {
   "display_name": "Python 3",
   "language": "python",
   "name": "python3"
  },
  "language_info": {
   "codemirror_mode": {
    "name": "ipython",
    "version": 3
   },
   "file_extension": ".py",
   "mimetype": "text/x-python",
   "name": "python",
   "nbconvert_exporter": "python",
   "pygments_lexer": "ipython3",
   "version": "3.11.5"
  }
 },
 "nbformat": 4,
 "nbformat_minor": 5
}
