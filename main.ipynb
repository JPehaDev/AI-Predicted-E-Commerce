{
 "cells": [
  {
   "cell_type": "code",
   "execution_count": null,
   "id": "9a73dbe3-762f-408c-9ce5-de7872e9f551",
   "metadata": {},
   "outputs": [],
   "source": [
    "from src.preprocessdata import main_preprocessdata\n",
    "from src.train import main_train\n",
    "from src.predict import main_predict"
   ]
  },
  {
   "cell_type": "code",
   "execution_count": null,
   "id": "afa78046-be25-4ec3-82a0-9836e7fce9f3",
   "metadata": {},
   "outputs": [],
   "source": [
    "main_preprocessdata()"
   ]
  },
  {
   "cell_type": "code",
   "execution_count": null,
   "id": "3ecbb5e5-5460-408c-a543-ec24c7cc2801",
   "metadata": {},
   "outputs": [],
   "source": [
    "main_train()"
   ]
  },
  {
   "cell_type": "code",
   "execution_count": null,
   "id": "1d41222f-a575-4250-900a-fa97388ee5ba",
   "metadata": {},
   "outputs": [],
   "source": [
    "name = \"Altec - Hard Shell Fashion Case for Apple® iPhone® 5 and 5s - Purple/Gray\"\n",
    "description = \"ALTEC Hard Shell Fashion Case for Apple iPhone 5 and 5s: Compatible with Apple iPhone 5 and 5s; scratch-resistant material; play-through design; shock-resistant up to 2\"\n",
    "category = \"pcmcat214700050000\""
   ]
  },
  {
   "cell_type": "code",
   "execution_count": null,
   "id": "7f9bd15e-9ed3-45c6-9bc1-857d58a31e53",
   "metadata": {},
   "outputs": [],
   "source": [
    "category_pred = main_predict(name, description)\n",
    "category_pred"
   ]
  },
  {
   "cell_type": "code",
   "execution_count": null,
   "id": "bf312c58-a200-4e29-9703-bcaeed89c7dc",
   "metadata": {},
   "outputs": [],
   "source": [
    "category == category_pred"
   ]
  }
 ],
 "metadata": {
  "kernelspec": {
   "display_name": "Python 3 (ipykernel)",
   "language": "python",
   "name": "python3"
  },
  "language_info": {
   "codemirror_mode": {
    "name": "ipython",
    "version": 3
   },
   "file_extension": ".py",
   "mimetype": "text/x-python",
   "name": "python",
   "nbconvert_exporter": "python",
   "pygments_lexer": "ipython3",
   "version": "3.11.6"
  }
 },
 "nbformat": 4,
 "nbformat_minor": 5
}
