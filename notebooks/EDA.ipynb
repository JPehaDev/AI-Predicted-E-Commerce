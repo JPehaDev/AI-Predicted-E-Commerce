{
 "cells": [
  {
   "cell_type": "code",
   "execution_count": 2,
   "id": "bcadeb97-dfaf-4013-bc6c-e87556221cd8",
   "metadata": {},
   "outputs": [],
   "source": [
    "import pandas as pd"
   ]
  },
  {
   "cell_type": "code",
   "execution_count": 3,
   "id": "e0395e6b-6667-4b0a-b743-f7b7dad5686e",
   "metadata": {},
   "outputs": [],
   "source": [
    "products_path = \"../data/raw/products.json.gz\"\n",
    "categories_path = \"../data/raw/categories.json.gz\"\n",
    "stores_path = \"../data/raw/stores.json.gz\""
   ]
  },
  {
   "cell_type": "code",
   "execution_count": 4,
   "id": "d2049709-0c64-4fbf-93aa-4953249d6bdc",
   "metadata": {},
   "outputs": [],
   "source": [
    "products = pd.read_json(products_path, compression=\"gzip\")\n",
    "categories = pd.read_json(categories_path, compression=\"gzip\")\n",
    "stores = pd.read_json(stores_path, compression=\"gzip\")"
   ]
  },
  {
   "cell_type": "code",
   "execution_count": 5,
   "id": "2102e811-6965-4403-8dc5-3968d7073d82",
   "metadata": {},
   "outputs": [
    {
     "data": {
      "text/plain": [
       "((51646, 12), (4584, 4), (1565, 11))"
      ]
     },
     "execution_count": 5,
     "metadata": {},
     "output_type": "execute_result"
    }
   ],
   "source": [
    "products.shape, categories.shape, stores.shape"
   ]
  },
  {
   "cell_type": "code",
   "execution_count": 6,
   "id": "cc381818-ae83-4cd1-88da-d5e3d070cc4d",
   "metadata": {},
   "outputs": [
    {
     "data": {
      "text/html": [
       "<div>\n",
       "<style scoped>\n",
       "    .dataframe tbody tr th:only-of-type {\n",
       "        vertical-align: middle;\n",
       "    }\n",
       "\n",
       "    .dataframe tbody tr th {\n",
       "        vertical-align: top;\n",
       "    }\n",
       "\n",
       "    .dataframe thead th {\n",
       "        text-align: right;\n",
       "    }\n",
       "</style>\n",
       "<table border=\"1\" class=\"dataframe\">\n",
       "  <thead>\n",
       "    <tr style=\"text-align: right;\">\n",
       "      <th></th>\n",
       "      <th>sku</th>\n",
       "      <th>name</th>\n",
       "      <th>type</th>\n",
       "      <th>price</th>\n",
       "      <th>upc</th>\n",
       "      <th>category</th>\n",
       "      <th>shipping</th>\n",
       "      <th>description</th>\n",
       "      <th>manufacturer</th>\n",
       "      <th>model</th>\n",
       "      <th>url</th>\n",
       "      <th>image</th>\n",
       "    </tr>\n",
       "  </thead>\n",
       "  <tbody>\n",
       "    <tr>\n",
       "      <th>11920</th>\n",
       "      <td>3928075</td>\n",
       "      <td>Samsung - Showcase 28.7 Cu. Ft. Side-by-Side R...</td>\n",
       "      <td>HardGood</td>\n",
       "      <td>2999.99</td>\n",
       "      <td>887276956022</td>\n",
       "      <td>[{'id': 'abcat0900000', 'name': 'Appliances'},...</td>\n",
       "      <td>190.99</td>\n",
       "      <td>ENERGY STAR Certified\\nTouch-screen controls; ...</td>\n",
       "      <td>Samsung</td>\n",
       "      <td>RH29H9000SR</td>\n",
       "      <td>http://www.bestbuy.com/site/samsung-showcase-2...</td>\n",
       "      <td>http://img.bbystatic.com/BestBuy_US/images/pro...</td>\n",
       "    </tr>\n",
       "    <tr>\n",
       "      <th>16521</th>\n",
       "      <td>4402709</td>\n",
       "      <td>ZeroLemon - 6.4' Lightning-to-USB Cable - Black</td>\n",
       "      <td>HardGood</td>\n",
       "      <td>12.99</td>\n",
       "      <td>4897010513745</td>\n",
       "      <td>[{'id': 'abcat0800000', 'name': 'Cell Phones'}...</td>\n",
       "      <td>5.49</td>\n",
       "      <td>ZEROLEMON 6.4' Lightning-to-USB Cable: Compati...</td>\n",
       "      <td>ZeroLemon</td>\n",
       "      <td>ZLNY354</td>\n",
       "      <td>http://www.bestbuy.com/site/zerolemon-6-4-ligh...</td>\n",
       "      <td>http://img.bbystatic.com/BestBuy_US/images/pro...</td>\n",
       "    </tr>\n",
       "    <tr>\n",
       "      <th>13517</th>\n",
       "      <td>4239511</td>\n",
       "      <td>Landmann - Big Sky Stars Moon Fire Pit - Georg...</td>\n",
       "      <td>HardGood</td>\n",
       "      <td>129.99</td>\n",
       "      <td>715117283351</td>\n",
       "      <td>[{'id': 'pcmcat312300050015', 'name': 'Connect...</td>\n",
       "      <td>0</td>\n",
       "      <td>LANDMANN Big Sky Stars Moon Fire Pit: Steel co...</td>\n",
       "      <td>Landmann</td>\n",
       "      <td>28335</td>\n",
       "      <td>http://www.bestbuy.com/site/landmann-big-sky-s...</td>\n",
       "      <td>http://img.bbystatic.com/BestBuy_US/images/pro...</td>\n",
       "    </tr>\n",
       "    <tr>\n",
       "      <th>16128</th>\n",
       "      <td>4380013</td>\n",
       "      <td>GoECOlife - Platinum 14-Sheet Crosscut Shredde...</td>\n",
       "      <td>HardGood</td>\n",
       "      <td>399.99</td>\n",
       "      <td>847502003579</td>\n",
       "      <td>[{'id': 'pcmcat312300050015', 'name': 'Connect...</td>\n",
       "      <td>0</td>\n",
       "      <td>GOECOLIFE Platinum 14-Sheet Crosscut Shredder:...</td>\n",
       "      <td>GoECOlife</td>\n",
       "      <td>GXC140TI</td>\n",
       "      <td>http://www.bestbuy.com/site/goecolife-platinum...</td>\n",
       "      <td>http://img.bbystatic.com/BestBuy_US/images/pro...</td>\n",
       "    </tr>\n",
       "    <tr>\n",
       "      <th>29562</th>\n",
       "      <td>5092841</td>\n",
       "      <td>Metra - Installation Kit with Pocket for Kia R...</td>\n",
       "      <td>HardGood</td>\n",
       "      <td>39.99</td>\n",
       "      <td>86429321018</td>\n",
       "      <td>[{'id': 'abcat0300000', 'name': 'Car Electroni...</td>\n",
       "      <td>0</td>\n",
       "      <td>Compatible with Kia Rio (without push-to-start...</td>\n",
       "      <td>Metra</td>\n",
       "      <td>99-7368B</td>\n",
       "      <td>http://www.bestbuy.com/site/metra-installation...</td>\n",
       "      <td>http://img.bbystatic.com/BestBuy_US/images/pro...</td>\n",
       "    </tr>\n",
       "    <tr>\n",
       "      <th>7090</th>\n",
       "      <td>2617988</td>\n",
       "      <td>iSound - BT-4000 Wireless Boombox - Black</td>\n",
       "      <td>HardGood</td>\n",
       "      <td>99.99</td>\n",
       "      <td>845620062621</td>\n",
       "      <td>[{'id': 'abcat0200000', 'name': 'Audio'}, {'id...</td>\n",
       "      <td>0</td>\n",
       "      <td>ISOUND BT-4000 Wireless Boombox: Compatible wi...</td>\n",
       "      <td>iSound</td>\n",
       "      <td>DG-ISOUND-6262</td>\n",
       "      <td>http://www.bestbuy.com/site/isound-bt-4000-wir...</td>\n",
       "      <td>http://img.bbystatic.com/BestBuy_US/images/pro...</td>\n",
       "    </tr>\n",
       "    <tr>\n",
       "      <th>14112</th>\n",
       "      <td>4285009</td>\n",
       "      <td>HP - 15.6\" Touch-Screen Laptop - Intel Core i3...</td>\n",
       "      <td>HardGood</td>\n",
       "      <td>499.99</td>\n",
       "      <td>889894143952</td>\n",
       "      <td>[{'id': 'abcat0500000', 'name': 'Computers &amp; T...</td>\n",
       "      <td>0</td>\n",
       "      <td>Windows 10Technical details: 5th Gen Intel&amp;#17...</td>\n",
       "      <td>HP</td>\n",
       "      <td>15-ac120nr</td>\n",
       "      <td>http://www.bestbuy.com/site/hp-15-6-touch-scre...</td>\n",
       "      <td>http://img.bbystatic.com/BestBuy_US/images/pro...</td>\n",
       "    </tr>\n",
       "    <tr>\n",
       "      <th>7852</th>\n",
       "      <td>2726306</td>\n",
       "      <td>Team Elimination Games — PRE-OWNED - Nintendo Wii</td>\n",
       "      <td>Game</td>\n",
       "      <td>9.99</td>\n",
       "      <td>799007757986</td>\n",
       "      <td>[{'id': 'abcat0700000', 'name': 'Video Games'}...</td>\n",
       "      <td>3.99</td>\n",
       "      <td>Take first place in fun</td>\n",
       "      <td>Ubisoft</td>\n",
       "      <td>Pre-Owned G</td>\n",
       "      <td>http://www.bestbuy.com/site/team-elimination-g...</td>\n",
       "      <td>http://img.bbystatic.com/BestBuy_US/images/pro...</td>\n",
       "    </tr>\n",
       "    <tr>\n",
       "      <th>40490</th>\n",
       "      <td>7850004</td>\n",
       "      <td>Sony - BDPS7200 - Streaming 4K Upscaling 3D Wi...</td>\n",
       "      <td>HardGood</td>\n",
       "      <td>179.98</td>\n",
       "      <td>27242873780</td>\n",
       "      <td>[{'id': 'abcat0100000', 'name': 'TV &amp; Home The...</td>\n",
       "      <td>0</td>\n",
       "      <td>Wi-Fi3D</td>\n",
       "      <td>Sony</td>\n",
       "      <td>BDPS7200</td>\n",
       "      <td>http://www.bestbuy.com/site/sony-bdps7200-stre...</td>\n",
       "      <td>http://img.bbystatic.com/BestBuy_US/images/pro...</td>\n",
       "    </tr>\n",
       "    <tr>\n",
       "      <th>5997</th>\n",
       "      <td>2275006</td>\n",
       "      <td>Brother - MFC-J6520DW Wireless All-In-One Prin...</td>\n",
       "      <td>HardGood</td>\n",
       "      <td>229.99</td>\n",
       "      <td>12502635734</td>\n",
       "      <td>[{'id': 'pcmcat312300050015', 'name': 'Connect...</td>\n",
       "      <td>0</td>\n",
       "      <td>4-in-1 functionalityWi-FiPrints up to 35 ISO p...</td>\n",
       "      <td>Brother</td>\n",
       "      <td>MFC-J6520DW</td>\n",
       "      <td>http://www.bestbuy.com/site/brother-mfc-j6520d...</td>\n",
       "      <td>http://img.bbystatic.com/BestBuy_US/images/pro...</td>\n",
       "    </tr>\n",
       "  </tbody>\n",
       "</table>\n",
       "</div>"
      ],
      "text/plain": [
       "           sku                                               name      type  \\\n",
       "11920  3928075  Samsung - Showcase 28.7 Cu. Ft. Side-by-Side R...  HardGood   \n",
       "16521  4402709    ZeroLemon - 6.4' Lightning-to-USB Cable - Black  HardGood   \n",
       "13517  4239511  Landmann - Big Sky Stars Moon Fire Pit - Georg...  HardGood   \n",
       "16128  4380013  GoECOlife - Platinum 14-Sheet Crosscut Shredde...  HardGood   \n",
       "29562  5092841  Metra - Installation Kit with Pocket for Kia R...  HardGood   \n",
       "7090   2617988          iSound - BT-4000 Wireless Boombox - Black  HardGood   \n",
       "14112  4285009  HP - 15.6\" Touch-Screen Laptop - Intel Core i3...  HardGood   \n",
       "7852   2726306  Team Elimination Games — PRE-OWNED - Nintendo Wii      Game   \n",
       "40490  7850004  Sony - BDPS7200 - Streaming 4K Upscaling 3D Wi...  HardGood   \n",
       "5997   2275006  Brother - MFC-J6520DW Wireless All-In-One Prin...  HardGood   \n",
       "\n",
       "         price            upc  \\\n",
       "11920  2999.99   887276956022   \n",
       "16521    12.99  4897010513745   \n",
       "13517   129.99   715117283351   \n",
       "16128   399.99   847502003579   \n",
       "29562    39.99    86429321018   \n",
       "7090     99.99   845620062621   \n",
       "14112   499.99   889894143952   \n",
       "7852      9.99   799007757986   \n",
       "40490   179.98    27242873780   \n",
       "5997    229.99    12502635734   \n",
       "\n",
       "                                                category shipping  \\\n",
       "11920  [{'id': 'abcat0900000', 'name': 'Appliances'},...   190.99   \n",
       "16521  [{'id': 'abcat0800000', 'name': 'Cell Phones'}...     5.49   \n",
       "13517  [{'id': 'pcmcat312300050015', 'name': 'Connect...        0   \n",
       "16128  [{'id': 'pcmcat312300050015', 'name': 'Connect...        0   \n",
       "29562  [{'id': 'abcat0300000', 'name': 'Car Electroni...        0   \n",
       "7090   [{'id': 'abcat0200000', 'name': 'Audio'}, {'id...        0   \n",
       "14112  [{'id': 'abcat0500000', 'name': 'Computers & T...        0   \n",
       "7852   [{'id': 'abcat0700000', 'name': 'Video Games'}...     3.99   \n",
       "40490  [{'id': 'abcat0100000', 'name': 'TV & Home The...        0   \n",
       "5997   [{'id': 'pcmcat312300050015', 'name': 'Connect...        0   \n",
       "\n",
       "                                             description manufacturer  \\\n",
       "11920  ENERGY STAR Certified\\nTouch-screen controls; ...      Samsung   \n",
       "16521  ZEROLEMON 6.4' Lightning-to-USB Cable: Compati...    ZeroLemon   \n",
       "13517  LANDMANN Big Sky Stars Moon Fire Pit: Steel co...     Landmann   \n",
       "16128  GOECOLIFE Platinum 14-Sheet Crosscut Shredder:...    GoECOlife   \n",
       "29562  Compatible with Kia Rio (without push-to-start...        Metra   \n",
       "7090   ISOUND BT-4000 Wireless Boombox: Compatible wi...       iSound   \n",
       "14112  Windows 10Technical details: 5th Gen Intel&#17...           HP   \n",
       "7852                             Take first place in fun      Ubisoft   \n",
       "40490                                            Wi-Fi3D         Sony   \n",
       "5997   4-in-1 functionalityWi-FiPrints up to 35 ISO p...      Brother   \n",
       "\n",
       "                model                                                url  \\\n",
       "11920     RH29H9000SR  http://www.bestbuy.com/site/samsung-showcase-2...   \n",
       "16521         ZLNY354  http://www.bestbuy.com/site/zerolemon-6-4-ligh...   \n",
       "13517           28335  http://www.bestbuy.com/site/landmann-big-sky-s...   \n",
       "16128        GXC140TI  http://www.bestbuy.com/site/goecolife-platinum...   \n",
       "29562        99-7368B  http://www.bestbuy.com/site/metra-installation...   \n",
       "7090   DG-ISOUND-6262  http://www.bestbuy.com/site/isound-bt-4000-wir...   \n",
       "14112      15-ac120nr  http://www.bestbuy.com/site/hp-15-6-touch-scre...   \n",
       "7852      Pre-Owned G  http://www.bestbuy.com/site/team-elimination-g...   \n",
       "40490        BDPS7200  http://www.bestbuy.com/site/sony-bdps7200-stre...   \n",
       "5997      MFC-J6520DW  http://www.bestbuy.com/site/brother-mfc-j6520d...   \n",
       "\n",
       "                                                   image  \n",
       "11920  http://img.bbystatic.com/BestBuy_US/images/pro...  \n",
       "16521  http://img.bbystatic.com/BestBuy_US/images/pro...  \n",
       "13517  http://img.bbystatic.com/BestBuy_US/images/pro...  \n",
       "16128  http://img.bbystatic.com/BestBuy_US/images/pro...  \n",
       "29562  http://img.bbystatic.com/BestBuy_US/images/pro...  \n",
       "7090   http://img.bbystatic.com/BestBuy_US/images/pro...  \n",
       "14112  http://img.bbystatic.com/BestBuy_US/images/pro...  \n",
       "7852   http://img.bbystatic.com/BestBuy_US/images/pro...  \n",
       "40490  http://img.bbystatic.com/BestBuy_US/images/pro...  \n",
       "5997   http://img.bbystatic.com/BestBuy_US/images/pro...  "
      ]
     },
     "execution_count": 6,
     "metadata": {},
     "output_type": "execute_result"
    }
   ],
   "source": [
    "products.sample(10)"
   ]
  },
  {
   "cell_type": "code",
   "execution_count": 7,
   "id": "97da1aa8-a898-43b7-804d-65deb150e894",
   "metadata": {},
   "outputs": [
    {
     "data": {
      "text/html": [
       "<div>\n",
       "<style scoped>\n",
       "    .dataframe tbody tr th:only-of-type {\n",
       "        vertical-align: middle;\n",
       "    }\n",
       "\n",
       "    .dataframe tbody tr th {\n",
       "        vertical-align: top;\n",
       "    }\n",
       "\n",
       "    .dataframe thead th {\n",
       "        text-align: right;\n",
       "    }\n",
       "</style>\n",
       "<table border=\"1\" class=\"dataframe\">\n",
       "  <thead>\n",
       "    <tr style=\"text-align: right;\">\n",
       "      <th></th>\n",
       "      <th>id</th>\n",
       "      <th>name</th>\n",
       "      <th>path</th>\n",
       "      <th>subCategories</th>\n",
       "    </tr>\n",
       "  </thead>\n",
       "  <tbody>\n",
       "    <tr>\n",
       "      <th>1407</th>\n",
       "      <td>pcmcat163500050009</td>\n",
       "      <td>Internet Radio</td>\n",
       "      <td>[{'id': 'abcat0300000', 'name': 'Car Electroni...</td>\n",
       "      <td>[]</td>\n",
       "    </tr>\n",
       "    <tr>\n",
       "      <th>4119</th>\n",
       "      <td>pcmcat748300595063</td>\n",
       "      <td>Geek Squad Connected Home Services</td>\n",
       "      <td>[{'id': 'pcmcat138100050018', 'name': 'Geek Sq...</td>\n",
       "      <td>[]</td>\n",
       "    </tr>\n",
       "    <tr>\n",
       "      <th>1197</th>\n",
       "      <td>pcmcat154200050021</td>\n",
       "      <td>In-Wall Air Conditioners</td>\n",
       "      <td>[{'id': 'pcmcat128500050004', 'name': 'Name Br...</td>\n",
       "      <td>[]</td>\n",
       "    </tr>\n",
       "    <tr>\n",
       "      <th>1631</th>\n",
       "      <td>pcmcat188000050003</td>\n",
       "      <td>iPod and MP3 Player Diagnostic Service</td>\n",
       "      <td>[{'id': 'pcmcat138100050018', 'name': 'Geek Sq...</td>\n",
       "      <td>[]</td>\n",
       "    </tr>\n",
       "    <tr>\n",
       "      <th>3846</th>\n",
       "      <td>pcmcat374700050016</td>\n",
       "      <td>Microsoft Surface Tablets</td>\n",
       "      <td>[{'id': 'pcmcat128500050004', 'name': 'Name Br...</td>\n",
       "      <td>[{'id': 'pcmcat748300810366', 'name': 'Microso...</td>\n",
       "    </tr>\n",
       "    <tr>\n",
       "      <th>311</th>\n",
       "      <td>abcat0714008</td>\n",
       "      <td>MP3 &amp; Audio</td>\n",
       "      <td>[{'id': 'abcat0700000', 'name': 'Video Games'}...</td>\n",
       "      <td>[]</td>\n",
       "    </tr>\n",
       "    <tr>\n",
       "      <th>1875</th>\n",
       "      <td>pcmcat207200050029</td>\n",
       "      <td>Mobile Add a Line</td>\n",
       "      <td>[{'id': 'pcmcat87800050001', 'name': 'Customer...</td>\n",
       "      <td>[]</td>\n",
       "    </tr>\n",
       "    <tr>\n",
       "      <th>4039</th>\n",
       "      <td>pcmcat748300454362</td>\n",
       "      <td>AppleCare+ for iPod touch</td>\n",
       "      <td>[{'id': 'pcmcat748300453862', 'name': 'AppleCa...</td>\n",
       "      <td>[]</td>\n",
       "    </tr>\n",
       "    <tr>\n",
       "      <th>3774</th>\n",
       "      <td>pcmcat369900050001</td>\n",
       "      <td>Drones &amp; Accessories</td>\n",
       "      <td>[{'id': 'pcmcat252700050006', 'name': 'Toys, G...</td>\n",
       "      <td>[{'id': 'pcmcat748300869789', 'name': 'All Dro...</td>\n",
       "    </tr>\n",
       "    <tr>\n",
       "      <th>2548</th>\n",
       "      <td>pcmcat261800050021</td>\n",
       "      <td>Amps and Effects</td>\n",
       "      <td>[{'id': 'pcmcat128500050004', 'name': 'Name Br...</td>\n",
       "      <td>[]</td>\n",
       "    </tr>\n",
       "  </tbody>\n",
       "</table>\n",
       "</div>"
      ],
      "text/plain": [
       "                      id                                    name  \\\n",
       "1407  pcmcat163500050009                          Internet Radio   \n",
       "4119  pcmcat748300595063      Geek Squad Connected Home Services   \n",
       "1197  pcmcat154200050021                In-Wall Air Conditioners   \n",
       "1631  pcmcat188000050003  iPod and MP3 Player Diagnostic Service   \n",
       "3846  pcmcat374700050016               Microsoft Surface Tablets   \n",
       "311         abcat0714008                             MP3 & Audio   \n",
       "1875  pcmcat207200050029                       Mobile Add a Line   \n",
       "4039  pcmcat748300454362               AppleCare+ for iPod touch   \n",
       "3774  pcmcat369900050001                    Drones & Accessories   \n",
       "2548  pcmcat261800050021                        Amps and Effects   \n",
       "\n",
       "                                                   path  \\\n",
       "1407  [{'id': 'abcat0300000', 'name': 'Car Electroni...   \n",
       "4119  [{'id': 'pcmcat138100050018', 'name': 'Geek Sq...   \n",
       "1197  [{'id': 'pcmcat128500050004', 'name': 'Name Br...   \n",
       "1631  [{'id': 'pcmcat138100050018', 'name': 'Geek Sq...   \n",
       "3846  [{'id': 'pcmcat128500050004', 'name': 'Name Br...   \n",
       "311   [{'id': 'abcat0700000', 'name': 'Video Games'}...   \n",
       "1875  [{'id': 'pcmcat87800050001', 'name': 'Customer...   \n",
       "4039  [{'id': 'pcmcat748300453862', 'name': 'AppleCa...   \n",
       "3774  [{'id': 'pcmcat252700050006', 'name': 'Toys, G...   \n",
       "2548  [{'id': 'pcmcat128500050004', 'name': 'Name Br...   \n",
       "\n",
       "                                          subCategories  \n",
       "1407                                                 []  \n",
       "4119                                                 []  \n",
       "1197                                                 []  \n",
       "1631                                                 []  \n",
       "3846  [{'id': 'pcmcat748300810366', 'name': 'Microso...  \n",
       "311                                                  []  \n",
       "1875                                                 []  \n",
       "4039                                                 []  \n",
       "3774  [{'id': 'pcmcat748300869789', 'name': 'All Dro...  \n",
       "2548                                                 []  "
      ]
     },
     "execution_count": 7,
     "metadata": {},
     "output_type": "execute_result"
    }
   ],
   "source": [
    "categories.sample(10)"
   ]
  },
  {
   "cell_type": "code",
   "execution_count": 8,
   "id": "eec2aee3-17c0-4fe6-8683-ab44d99bc20a",
   "metadata": {},
   "outputs": [
    {
     "data": {
      "text/html": [
       "<div>\n",
       "<style scoped>\n",
       "    .dataframe tbody tr th:only-of-type {\n",
       "        vertical-align: middle;\n",
       "    }\n",
       "\n",
       "    .dataframe tbody tr th {\n",
       "        vertical-align: top;\n",
       "    }\n",
       "\n",
       "    .dataframe thead th {\n",
       "        text-align: right;\n",
       "    }\n",
       "</style>\n",
       "<table border=\"1\" class=\"dataframe\">\n",
       "  <thead>\n",
       "    <tr style=\"text-align: right;\">\n",
       "      <th></th>\n",
       "      <th>id</th>\n",
       "      <th>type</th>\n",
       "      <th>name</th>\n",
       "      <th>address</th>\n",
       "      <th>address2</th>\n",
       "      <th>city</th>\n",
       "      <th>state</th>\n",
       "      <th>zip</th>\n",
       "      <th>location</th>\n",
       "      <th>hours</th>\n",
       "      <th>services</th>\n",
       "    </tr>\n",
       "  </thead>\n",
       "  <tbody>\n",
       "    <tr>\n",
       "      <th>653</th>\n",
       "      <td>2744</td>\n",
       "      <td>Mobile</td>\n",
       "      <td>The Avenues</td>\n",
       "      <td>10300 Southside Blvd</td>\n",
       "      <td>#3140</td>\n",
       "      <td>Jacksonville</td>\n",
       "      <td>FL</td>\n",
       "      <td>32256</td>\n",
       "      <td>{'lat': 30.186051, 'lon': -81.554019}</td>\n",
       "      <td>Mon: 10-9; Tue: 10-9; Wed: 10-9; Thurs: 10-9; ...</td>\n",
       "      <td>[Best Buy Mobile Specialty Store, Electronics ...</td>\n",
       "    </tr>\n",
       "    <tr>\n",
       "      <th>1253</th>\n",
       "      <td>773</td>\n",
       "      <td>BigBox</td>\n",
       "      <td>Orem</td>\n",
       "      <td>309 E University Pkwy</td>\n",
       "      <td></td>\n",
       "      <td>Orem</td>\n",
       "      <td>UT</td>\n",
       "      <td>84058</td>\n",
       "      <td>{'lat': 40.274288, 'lon': -111.68864}</td>\n",
       "      <td>Mon: 10-9; Tue: 10-9; Wed: 10-9; Thurs: 10-9; ...</td>\n",
       "      <td>[Geek Squad Services, Best Buy Mobile, Best Bu...</td>\n",
       "    </tr>\n",
       "    <tr>\n",
       "      <th>1347</th>\n",
       "      <td>8084</td>\n",
       "      <td>Express</td>\n",
       "      <td>EWR - Newark Liberty International Airport</td>\n",
       "      <td>3 Brewster Rd</td>\n",
       "      <td>None</td>\n",
       "      <td>Newark</td>\n",
       "      <td>NJ</td>\n",
       "      <td>7114</td>\n",
       "      <td>{'lat': 40.690382, 'lon': -74.177373}</td>\n",
       "      <td>Mon: 0-11:59; Tue: 0-11:59; Wed: 0-11:59; Thur...</td>\n",
       "      <td>[]</td>\n",
       "    </tr>\n",
       "    <tr>\n",
       "      <th>1313</th>\n",
       "      <td>8046</td>\n",
       "      <td>Express</td>\n",
       "      <td>LGA - LaGuardia Airport</td>\n",
       "      <td>LaGuardia Airport</td>\n",
       "      <td>None</td>\n",
       "      <td>Flushing</td>\n",
       "      <td>NY</td>\n",
       "      <td>11371</td>\n",
       "      <td>{'lat': 40.779051, 'lon': -73.856609}</td>\n",
       "      <td>Mon: 0-11:59; Tue: 0-11:59; Wed: 0-11:59; Thur...</td>\n",
       "      <td>[]</td>\n",
       "    </tr>\n",
       "    <tr>\n",
       "      <th>980</th>\n",
       "      <td>386</td>\n",
       "      <td>BigBox</td>\n",
       "      <td>Greenville</td>\n",
       "      <td>3140 Evans St</td>\n",
       "      <td></td>\n",
       "      <td>Greenville</td>\n",
       "      <td>NC</td>\n",
       "      <td>27834</td>\n",
       "      <td>{'lat': 35.574509, 'lon': -77.384796}</td>\n",
       "      <td>Mon: 10-9; Tue: 10-9; Wed: 10-9; Thurs: 10-9; ...</td>\n",
       "      <td>[Windows Store, Geek Squad Services, Best Buy ...</td>\n",
       "    </tr>\n",
       "    <tr>\n",
       "      <th>1137</th>\n",
       "      <td>534</td>\n",
       "      <td>BigBox</td>\n",
       "      <td>Nashua</td>\n",
       "      <td>220 Daniel Webster Hwy</td>\n",
       "      <td></td>\n",
       "      <td>Nashua</td>\n",
       "      <td>NH</td>\n",
       "      <td>03060</td>\n",
       "      <td>{'lat': 42.71386, 'lon': -71.441246}</td>\n",
       "      <td>Mon: 10-9; Tue: 10-9; Wed: 10-9; Thurs: 10-9; ...</td>\n",
       "      <td>[Windows Store, Geek Squad Services, Best Buy ...</td>\n",
       "    </tr>\n",
       "    <tr>\n",
       "      <th>1242</th>\n",
       "      <td>757</td>\n",
       "      <td>BigBox</td>\n",
       "      <td>Menomonee Falls</td>\n",
       "      <td>N94 W16855 Falls Parkway</td>\n",
       "      <td></td>\n",
       "      <td>Menomonee Falls</td>\n",
       "      <td>WI</td>\n",
       "      <td>53051</td>\n",
       "      <td>{'lat': 43.188984, 'lon': -88.119286}</td>\n",
       "      <td>Mon: 10-9; Tue: 10-9; Wed: 10-9; Thurs: 10-9; ...</td>\n",
       "      <td>[Geek Squad Services, Best Buy Mobile, Best Bu...</td>\n",
       "    </tr>\n",
       "    <tr>\n",
       "      <th>59</th>\n",
       "      <td>1067</td>\n",
       "      <td>BigBox</td>\n",
       "      <td>Trumbull</td>\n",
       "      <td>100 Hawley Ln</td>\n",
       "      <td></td>\n",
       "      <td>Trumbull</td>\n",
       "      <td>CT</td>\n",
       "      <td>06611</td>\n",
       "      <td>{'lat': 41.233082, 'lon': -73.152496}</td>\n",
       "      <td>Mon: 10-9; Tue: 10-9; Wed: 10-9; Thurs: 10-9; ...</td>\n",
       "      <td>[Geek Squad Services, Best Buy Mobile, Best Bu...</td>\n",
       "    </tr>\n",
       "    <tr>\n",
       "      <th>1326</th>\n",
       "      <td>8063</td>\n",
       "      <td>Express</td>\n",
       "      <td>DFW - Dallas/Fort Worth International Airport</td>\n",
       "      <td>3200 East Airfield Drive</td>\n",
       "      <td>None</td>\n",
       "      <td>Dallas</td>\n",
       "      <td>TX</td>\n",
       "      <td>75261</td>\n",
       "      <td>{'lat': 32.897449, 'lon': -97.040653}</td>\n",
       "      <td>Mon: 0-11:59; Tue: 0-11:59; Wed: 0-11:59; Thur...</td>\n",
       "      <td>[]</td>\n",
       "    </tr>\n",
       "    <tr>\n",
       "      <th>1336</th>\n",
       "      <td>8074</td>\n",
       "      <td>Express</td>\n",
       "      <td>MCO - Orlando International Airport</td>\n",
       "      <td>One Airport Blvd.</td>\n",
       "      <td>None</td>\n",
       "      <td>Orlando</td>\n",
       "      <td>FL</td>\n",
       "      <td>32827</td>\n",
       "      <td>{'lat': 28.430565, 'lon': -81.309138}</td>\n",
       "      <td>Mon: 0-11:59; Tue: 0-11:59; Wed: 0-11:59; Thur...</td>\n",
       "      <td>[]</td>\n",
       "    </tr>\n",
       "  </tbody>\n",
       "</table>\n",
       "</div>"
      ],
      "text/plain": [
       "        id     type                                           name  \\\n",
       "653   2744   Mobile                                    The Avenues   \n",
       "1253   773   BigBox                                           Orem   \n",
       "1347  8084  Express     EWR - Newark Liberty International Airport   \n",
       "1313  8046  Express                        LGA - LaGuardia Airport   \n",
       "980    386   BigBox                                     Greenville   \n",
       "1137   534   BigBox                                         Nashua   \n",
       "1242   757   BigBox                                Menomonee Falls   \n",
       "59    1067   BigBox                                       Trumbull   \n",
       "1326  8063  Express  DFW - Dallas/Fort Worth International Airport   \n",
       "1336  8074  Express            MCO - Orlando International Airport   \n",
       "\n",
       "                       address address2             city state    zip  \\\n",
       "653       10300 Southside Blvd    #3140     Jacksonville    FL  32256   \n",
       "1253     309 E University Pkwy                      Orem    UT  84058   \n",
       "1347             3 Brewster Rd     None           Newark    NJ   7114   \n",
       "1313         LaGuardia Airport     None         Flushing    NY  11371   \n",
       "980              3140 Evans St                Greenville    NC  27834   \n",
       "1137    220 Daniel Webster Hwy                    Nashua    NH  03060   \n",
       "1242  N94 W16855 Falls Parkway           Menomonee Falls    WI  53051   \n",
       "59               100 Hawley Ln                  Trumbull    CT  06611   \n",
       "1326  3200 East Airfield Drive     None           Dallas    TX  75261   \n",
       "1336         One Airport Blvd.     None          Orlando    FL  32827   \n",
       "\n",
       "                                   location  \\\n",
       "653   {'lat': 30.186051, 'lon': -81.554019}   \n",
       "1253  {'lat': 40.274288, 'lon': -111.68864}   \n",
       "1347  {'lat': 40.690382, 'lon': -74.177373}   \n",
       "1313  {'lat': 40.779051, 'lon': -73.856609}   \n",
       "980   {'lat': 35.574509, 'lon': -77.384796}   \n",
       "1137   {'lat': 42.71386, 'lon': -71.441246}   \n",
       "1242  {'lat': 43.188984, 'lon': -88.119286}   \n",
       "59    {'lat': 41.233082, 'lon': -73.152496}   \n",
       "1326  {'lat': 32.897449, 'lon': -97.040653}   \n",
       "1336  {'lat': 28.430565, 'lon': -81.309138}   \n",
       "\n",
       "                                                  hours  \\\n",
       "653   Mon: 10-9; Tue: 10-9; Wed: 10-9; Thurs: 10-9; ...   \n",
       "1253  Mon: 10-9; Tue: 10-9; Wed: 10-9; Thurs: 10-9; ...   \n",
       "1347  Mon: 0-11:59; Tue: 0-11:59; Wed: 0-11:59; Thur...   \n",
       "1313  Mon: 0-11:59; Tue: 0-11:59; Wed: 0-11:59; Thur...   \n",
       "980   Mon: 10-9; Tue: 10-9; Wed: 10-9; Thurs: 10-9; ...   \n",
       "1137  Mon: 10-9; Tue: 10-9; Wed: 10-9; Thurs: 10-9; ...   \n",
       "1242  Mon: 10-9; Tue: 10-9; Wed: 10-9; Thurs: 10-9; ...   \n",
       "59    Mon: 10-9; Tue: 10-9; Wed: 10-9; Thurs: 10-9; ...   \n",
       "1326  Mon: 0-11:59; Tue: 0-11:59; Wed: 0-11:59; Thur...   \n",
       "1336  Mon: 0-11:59; Tue: 0-11:59; Wed: 0-11:59; Thur...   \n",
       "\n",
       "                                               services  \n",
       "653   [Best Buy Mobile Specialty Store, Electronics ...  \n",
       "1253  [Geek Squad Services, Best Buy Mobile, Best Bu...  \n",
       "1347                                                 []  \n",
       "1313                                                 []  \n",
       "980   [Windows Store, Geek Squad Services, Best Buy ...  \n",
       "1137  [Windows Store, Geek Squad Services, Best Buy ...  \n",
       "1242  [Geek Squad Services, Best Buy Mobile, Best Bu...  \n",
       "59    [Geek Squad Services, Best Buy Mobile, Best Bu...  \n",
       "1326                                                 []  \n",
       "1336                                                 []  "
      ]
     },
     "execution_count": 8,
     "metadata": {},
     "output_type": "execute_result"
    }
   ],
   "source": [
    "stores.sample(10)"
   ]
  },
  {
   "cell_type": "code",
   "execution_count": 9,
   "id": "a4fe4a43-dc10-4dd6-be19-fbad056e3143",
   "metadata": {},
   "outputs": [
    {
     "data": {
      "text/plain": [
       "{18592: {'sku': 4531137,\n",
       "  'name': 'iBattz - iBack Armor Essence Case for Apple® iPhone® 6 - Silver',\n",
       "  'type': 'HardGood',\n",
       "  'price': 49.99,\n",
       "  'upc': 6958513203712,\n",
       "  'category': [{'id': 'abcat0800000', 'name': 'Cell Phones'},\n",
       "   {'id': 'abcat0811002', 'name': 'Cell Phone Accessories'},\n",
       "   {'id': 'pcmcat191200050015', 'name': 'iPhone Accessories'},\n",
       "   {'id': 'pcmcat214700050000', 'name': 'iPhone Cases & Clips'}],\n",
       "  'shipping': 0,\n",
       "  'description': 'IBATTZ iBack Armor Essence Case for Apple iPhone 6: Compatible with Apple iPhone 6; aircraft-grade aluminum construction; antenna strip; independent volume and power buttons',\n",
       "  'manufacturer': 'iBattz',\n",
       "  'model': 'IB-IP60107',\n",
       "  'url': 'http://www.bestbuy.com/site/ibattz-iback-armor-essence-case-for-apple-iphone-6-silver/4531137.p?id=1219630507073&skuId=4531137CC',\n",
       "  'image': 'http://img.bbystatic.com/BestBuy_US/images/products/4531/4531137_sa.jpg'}}"
      ]
     },
     "execution_count": 9,
     "metadata": {},
     "output_type": "execute_result"
    }
   ],
   "source": [
    "products.sample().T.to_dict()"
   ]
  },
  {
   "cell_type": "code",
   "execution_count": 10,
   "id": "2376cc73-ddf0-4eac-92c0-c3223ad942b7",
   "metadata": {},
   "outputs": [
    {
     "data": {
      "text/plain": [
       "[{'id': 'pcmcat242800050021', 'name': 'Health, Fitness & Beauty'},\n",
       " {'id': 'abcat0301006', 'name': 'Fitness & GPS Watches'}]"
      ]
     },
     "execution_count": 10,
     "metadata": {},
     "output_type": "execute_result"
    }
   ],
   "source": [
    "products[\"category\"].sample().values[0]"
   ]
  },
  {
   "cell_type": "code",
   "execution_count": 11,
   "id": "128f518e-bbf1-44ed-a742-14d98b8b089a",
   "metadata": {},
   "outputs": [
    {
     "data": {
      "text/plain": [
       "sku                0\n",
       "name               1\n",
       "type               0\n",
       "price              0\n",
       "upc                0\n",
       "category           0\n",
       "shipping           0\n",
       "description        0\n",
       "manufacturer      62\n",
       "model           2863\n",
       "url                0\n",
       "image              0\n",
       "dtype: int64"
      ]
     },
     "execution_count": 11,
     "metadata": {},
     "output_type": "execute_result"
    }
   ],
   "source": [
    "products.isna().sum()"
   ]
  },
  {
   "cell_type": "code",
   "execution_count": 12,
   "id": "4a46cbe3-bf7d-4bb4-8120-df9827b669de",
   "metadata": {},
   "outputs": [
    {
     "data": {
      "text/plain": [
       "{3042: {'id': 'pcmcat303600050004',\n",
       "  'name': 'Xbox One Consoles',\n",
       "  'path': [{'id': 'abcat0700000', 'name': 'Video Games'},\n",
       "   {'id': 'pcmcat300300050002', 'name': 'Xbox One'},\n",
       "   {'id': 'pcmcat303600050004', 'name': 'Xbox One Consoles'}],\n",
       "  'subCategories': [{'id': 'pcmcat748301925195',\n",
       "    'name': 'Backward Compatibility with Xbox 360 Games'}]}}"
      ]
     },
     "execution_count": 12,
     "metadata": {},
     "output_type": "execute_result"
    }
   ],
   "source": [
    "categories.sample().T.to_dict()"
   ]
  },
  {
   "cell_type": "code",
   "execution_count": 13,
   "id": "f243a51b-7817-4b5c-a6a8-a940cd612b52",
   "metadata": {},
   "outputs": [],
   "source": [
    "#products_explode_category = products.explode([\"category\"])"
   ]
  },
  {
   "cell_type": "code",
   "execution_count": 14,
   "id": "adc26b3c-148c-4a06-8fc9-47b7b1cafc99",
   "metadata": {},
   "outputs": [],
   "source": [
    "products[\"category_id\"] = products[\"category\"].apply(lambda x: x[-1][\"id\"]) # Obtener la ultima hoja de categoria"
   ]
  },
  {
   "cell_type": "code",
   "execution_count": 15,
   "id": "50a52ef4-01a2-4dd0-a218-f91359669499",
   "metadata": {},
   "outputs": [],
   "source": [
    "min_value = 100"
   ]
  },
  {
   "cell_type": "code",
   "execution_count": 16,
   "id": "9a914b9c-d15c-4248-82ff-a91b7caa8971",
   "metadata": {},
   "outputs": [],
   "source": [
    "unique_category = products[\"category_id\"].value_counts(normalize=False)\n",
    "valid_category = unique_category[unique_category>=min_value]"
   ]
  },
  {
   "cell_type": "code",
   "execution_count": 17,
   "id": "fab47a88-5ca7-4d54-bd1b-b98590165bc8",
   "metadata": {},
   "outputs": [
    {
     "data": {
      "text/plain": [
       "(1667, 101, 6.05878824235153)"
      ]
     },
     "execution_count": 17,
     "metadata": {},
     "output_type": "execute_result"
    }
   ],
   "source": [
    "len(unique_category), len(valid_category), len(valid_category)/len(unique_category)*100"
   ]
  },
  {
   "cell_type": "code",
   "execution_count": 18,
   "id": "0fce939d-096e-430a-aa31-2b4a8c8e8658",
   "metadata": {},
   "outputs": [
    {
     "data": {
      "text/plain": [
       "31.784467713787084"
      ]
     },
     "execution_count": 18,
     "metadata": {},
     "output_type": "execute_result"
    }
   ],
   "source": [
    "categories[categories[\"id\"].isin(unique_category.index)].shape[0]/categories.shape[0]*100"
   ]
  },
  {
   "cell_type": "code",
   "execution_count": 19,
   "id": "4d39e641-90e9-427a-923d-47759d951ce2",
   "metadata": {},
   "outputs": [
    {
     "data": {
      "text/plain": [
       "2.181500872600349"
      ]
     },
     "execution_count": 19,
     "metadata": {},
     "output_type": "execute_result"
    }
   ],
   "source": [
    "categories[categories[\"id\"].isin(valid_category.index)].shape[0]/categories.shape[0]*100"
   ]
  },
  {
   "cell_type": "code",
   "execution_count": 20,
   "id": "9c5e897d-0279-4455-897b-a66750c2f752",
   "metadata": {},
   "outputs": [
    {
     "data": {
      "text/plain": [
       "100"
      ]
     },
     "execution_count": 20,
     "metadata": {},
     "output_type": "execute_result"
    }
   ],
   "source": [
    "len([i for i in valid_category.index if i in categories[\"id\"].unique()])"
   ]
  },
  {
   "cell_type": "code",
   "execution_count": 21,
   "id": "c43e16af-8f48-4c36-8e59-3ec4e2acacec",
   "metadata": {},
   "outputs": [
    {
     "data": {
      "text/plain": [
       "1"
      ]
     },
     "execution_count": 21,
     "metadata": {},
     "output_type": "execute_result"
    }
   ],
   "source": [
    "len([i for i in valid_category.index if i not in categories[\"id\"].unique()])"
   ]
  },
  {
   "cell_type": "code",
   "execution_count": 22,
   "id": "92010d14-b7a5-4d93-bbbb-69ed20c59a6f",
   "metadata": {},
   "outputs": [
    {
     "data": {
      "text/plain": [
       "['pcmcat225800050009']"
      ]
     },
     "execution_count": 22,
     "metadata": {},
     "output_type": "execute_result"
    }
   ],
   "source": [
    "[i for i in valid_category.index if i not in categories[\"id\"].unique()]"
   ]
  },
  {
   "cell_type": "code",
   "execution_count": 23,
   "id": "8e3d7a37-3d41-4294-b2ff-ec352a6ed780",
   "metadata": {},
   "outputs": [
    {
     "data": {
      "text/plain": [
       "'pcmcat225800050009'"
      ]
     },
     "execution_count": 23,
     "metadata": {},
     "output_type": "execute_result"
    }
   ],
   "source": [
    "cat_not_in_sample = [i for i in valid_category.index if i not in categories[\"id\"].unique()][0]\n",
    "cat_not_in_sample"
   ]
  },
  {
   "cell_type": "code",
   "execution_count": 24,
   "id": "f79bf6d1-740b-419c-a70a-7867633ab8a2",
   "metadata": {},
   "outputs": [
    {
     "data": {
      "text/plain": [
       "0.21686093792355648"
      ]
     },
     "execution_count": 24,
     "metadata": {},
     "output_type": "execute_result"
    }
   ],
   "source": [
    "products[products[\"category_id\"]==cat_not_in_sample].shape[0] / products.shape[0] *100"
   ]
  },
  {
   "cell_type": "code",
   "execution_count": 25,
   "id": "000c7910-b7de-4577-8a09-9fc452c952ae",
   "metadata": {},
   "outputs": [
    {
     "data": {
      "text/html": [
       "<div>\n",
       "<style scoped>\n",
       "    .dataframe tbody tr th:only-of-type {\n",
       "        vertical-align: middle;\n",
       "    }\n",
       "\n",
       "    .dataframe tbody tr th {\n",
       "        vertical-align: top;\n",
       "    }\n",
       "\n",
       "    .dataframe thead th {\n",
       "        text-align: right;\n",
       "    }\n",
       "</style>\n",
       "<table border=\"1\" class=\"dataframe\">\n",
       "  <thead>\n",
       "    <tr style=\"text-align: right;\">\n",
       "      <th></th>\n",
       "      <th>sku</th>\n",
       "      <th>name</th>\n",
       "      <th>type</th>\n",
       "      <th>price</th>\n",
       "      <th>upc</th>\n",
       "      <th>category</th>\n",
       "      <th>shipping</th>\n",
       "      <th>description</th>\n",
       "      <th>manufacturer</th>\n",
       "      <th>model</th>\n",
       "      <th>url</th>\n",
       "      <th>image</th>\n",
       "      <th>category_id</th>\n",
       "    </tr>\n",
       "  </thead>\n",
       "  <tbody>\n",
       "    <tr>\n",
       "      <th>250</th>\n",
       "      <td>1066224</td>\n",
       "      <td>SanDisk - Extreme PLUS 16GB High-Definition Se...</td>\n",
       "      <td>HardGood</td>\n",
       "      <td>49.99</td>\n",
       "      <td>619659136055</td>\n",
       "      <td>[{'id': 'abcat0400000', 'name': 'Cameras &amp; Cam...</td>\n",
       "      <td>0</td>\n",
       "      <td>Compatible with most Secure Digital High Capac...</td>\n",
       "      <td>SanDisk</td>\n",
       "      <td>SDSDXSF-016G-ANCIN</td>\n",
       "      <td>http://www.bestbuy.com/site/sandisk-extreme-pl...</td>\n",
       "      <td>http://img.bbystatic.com/BestBuy_US/images/pro...</td>\n",
       "      <td>pcmcat225800050009</td>\n",
       "    </tr>\n",
       "    <tr>\n",
       "      <th>809</th>\n",
       "      <td>1154158</td>\n",
       "      <td>Kingston - 16 GB Secure Digital High Capacity ...</td>\n",
       "      <td>HardGood</td>\n",
       "      <td>19.99</td>\n",
       "      <td>740617126822</td>\n",
       "      <td>[{'id': 'abcat0400000', 'name': 'Cameras &amp; Cam...</td>\n",
       "      <td>5.49</td>\n",
       "      <td>16 GB</td>\n",
       "      <td>Kingston</td>\n",
       "      <td>SD4/16GB</td>\n",
       "      <td>http://www.bestbuy.com/site/kingston-16-gb-sec...</td>\n",
       "      <td>http://img.bbystatic.com/BestBuy_US/images/pro...</td>\n",
       "      <td>pcmcat225800050009</td>\n",
       "    </tr>\n",
       "    <tr>\n",
       "      <th>1473</th>\n",
       "      <td>1299201</td>\n",
       "      <td>SanDisk - Pixtor 64GB microSDXC Class 10 Memor...</td>\n",
       "      <td>HardGood</td>\n",
       "      <td>99.99</td>\n",
       "      <td>619659139551</td>\n",
       "      <td>[{'id': 'abcat0400000', 'name': 'Cameras &amp; Cam...</td>\n",
       "      <td>0</td>\n",
       "      <td>Compatible with most devices with a microSDXC ...</td>\n",
       "      <td>SanDisk</td>\n",
       "      <td>SDSQUSC-064G-ABCMA</td>\n",
       "      <td>http://www.bestbuy.com/site/sandisk-pixtor-64g...</td>\n",
       "      <td>http://img.bbystatic.com/BestBuy_US/images/pro...</td>\n",
       "      <td>pcmcat225800050009</td>\n",
       "    </tr>\n",
       "    <tr>\n",
       "      <th>1474</th>\n",
       "      <td>1300059</td>\n",
       "      <td>SanDisk - Pixtor 16GB microSDHC Class 10 Memor...</td>\n",
       "      <td>HardGood</td>\n",
       "      <td>34.99</td>\n",
       "      <td>619659139766</td>\n",
       "      <td>[{'id': 'abcat0400000', 'name': 'Cameras &amp; Cam...</td>\n",
       "      <td>0</td>\n",
       "      <td>Compatible with most devices with a microSDHC ...</td>\n",
       "      <td>SanDisk</td>\n",
       "      <td>SDSQUSC-016G-ABCMA</td>\n",
       "      <td>http://www.bestbuy.com/site/sandisk-pixtor-16g...</td>\n",
       "      <td>http://img.bbystatic.com/BestBuy_US/images/pro...</td>\n",
       "      <td>pcmcat225800050009</td>\n",
       "    </tr>\n",
       "    <tr>\n",
       "      <th>1475</th>\n",
       "      <td>1300086</td>\n",
       "      <td>SanDisk - Pixtor 32GB microSDHC Class 10 Memor...</td>\n",
       "      <td>HardGood</td>\n",
       "      <td>59.99</td>\n",
       "      <td>619659139810</td>\n",
       "      <td>[{'id': 'abcat0400000', 'name': 'Cameras &amp; Cam...</td>\n",
       "      <td>0</td>\n",
       "      <td>Compatible with most devices with a microSDHC ...</td>\n",
       "      <td>SanDisk</td>\n",
       "      <td>SDSQUSC-032G-ABCMA</td>\n",
       "      <td>http://www.bestbuy.com/site/sandisk-pixtor-32g...</td>\n",
       "      <td>http://img.bbystatic.com/BestBuy_US/images/pro...</td>\n",
       "      <td>pcmcat225800050009</td>\n",
       "    </tr>\n",
       "    <tr>\n",
       "      <th>...</th>\n",
       "      <td>...</td>\n",
       "      <td>...</td>\n",
       "      <td>...</td>\n",
       "      <td>...</td>\n",
       "      <td>...</td>\n",
       "      <td>...</td>\n",
       "      <td>...</td>\n",
       "      <td>...</td>\n",
       "      <td>...</td>\n",
       "      <td>...</td>\n",
       "      <td>...</td>\n",
       "      <td>...</td>\n",
       "      <td>...</td>\n",
       "    </tr>\n",
       "    <tr>\n",
       "      <th>46547</th>\n",
       "      <td>9138514</td>\n",
       "      <td>SanDisk - 8GB SDHC Memory Card - Blue</td>\n",
       "      <td>HardGood</td>\n",
       "      <td>19.99</td>\n",
       "      <td>619659039622</td>\n",
       "      <td>[{'id': 'abcat0400000', 'name': 'Cameras &amp; Cam...</td>\n",
       "      <td>0</td>\n",
       "      <td>Compatible with digital cameras and camcorders...</td>\n",
       "      <td>SanDisk</td>\n",
       "      <td>SDSDB-008G-A46</td>\n",
       "      <td>http://www.bestbuy.com/site/sandisk-8gb-sdhc-m...</td>\n",
       "      <td>http://img.bbystatic.com/BestBuy_US/images/pro...</td>\n",
       "      <td>pcmcat225800050009</td>\n",
       "    </tr>\n",
       "    <tr>\n",
       "      <th>47023</th>\n",
       "      <td>9215725</td>\n",
       "      <td>PNY - 8GB microSDHC Class 4 Memory Card - Black</td>\n",
       "      <td>HardGood</td>\n",
       "      <td>14.99</td>\n",
       "      <td>751492412993</td>\n",
       "      <td>[{'id': 'abcat0400000', 'name': 'Cameras &amp; Cam...</td>\n",
       "      <td>0</td>\n",
       "      <td>Compatible with devices that support microSDHC...</td>\n",
       "      <td>PNY</td>\n",
       "      <td>P-SDU8GB4-S</td>\n",
       "      <td>http://www.bestbuy.com/site/pny-8gb-microsdhc-...</td>\n",
       "      <td>http://img.bbystatic.com/BestBuy_US/images/pro...</td>\n",
       "      <td>pcmcat225800050009</td>\n",
       "    </tr>\n",
       "    <tr>\n",
       "      <th>47560</th>\n",
       "      <td>9301149</td>\n",
       "      <td>SanDisk - Extreme Pro 32GB microSDHC Class 10 ...</td>\n",
       "      <td>HardGood</td>\n",
       "      <td>164.99</td>\n",
       "      <td>619659119133</td>\n",
       "      <td>[{'id': 'abcat0400000', 'name': 'Cameras &amp; Cam...</td>\n",
       "      <td>0</td>\n",
       "      <td>Compatible with most smartphones, tablets and ...</td>\n",
       "      <td>SanDisk</td>\n",
       "      <td>SDSDQXP-032G-A46A</td>\n",
       "      <td>http://www.bestbuy.com/site/sandisk-extreme-pr...</td>\n",
       "      <td>http://img.bbystatic.com/BestBuy_US/images/pro...</td>\n",
       "      <td>pcmcat225800050009</td>\n",
       "    </tr>\n",
       "    <tr>\n",
       "      <th>49729</th>\n",
       "      <td>9623158</td>\n",
       "      <td>Kingston - 4GB microSDHC Class 4 Memory Card -...</td>\n",
       "      <td>HardGood</td>\n",
       "      <td>8.99</td>\n",
       "      <td>740617120639</td>\n",
       "      <td>[{'id': 'abcat0400000', 'name': 'Cameras &amp; Cam...</td>\n",
       "      <td>5.49</td>\n",
       "      <td>Compatible with most digital cameras and camco...</td>\n",
       "      <td>Kingston</td>\n",
       "      <td>SDC4/4GB</td>\n",
       "      <td>http://www.bestbuy.com/site/kingston-4gb-micro...</td>\n",
       "      <td>http://img.bbystatic.com/BestBuy_US/images/pro...</td>\n",
       "      <td>pcmcat225800050009</td>\n",
       "    </tr>\n",
       "    <tr>\n",
       "      <th>49766</th>\n",
       "      <td>9631906</td>\n",
       "      <td>SanDisk - 16GB SDHC Memory Card - Blue</td>\n",
       "      <td>HardGood</td>\n",
       "      <td>29.99</td>\n",
       "      <td>619659055639</td>\n",
       "      <td>[{'id': 'abcat0400000', 'name': 'Cameras &amp; Cam...</td>\n",
       "      <td>0</td>\n",
       "      <td>Compatible with most digital cameras and camco...</td>\n",
       "      <td>SanDisk</td>\n",
       "      <td>SDSDB-016G-A46</td>\n",
       "      <td>http://www.bestbuy.com/site/sandisk-16gb-sdhc-...</td>\n",
       "      <td>http://img.bbystatic.com/BestBuy_US/images/pro...</td>\n",
       "      <td>pcmcat225800050009</td>\n",
       "    </tr>\n",
       "  </tbody>\n",
       "</table>\n",
       "<p>112 rows × 13 columns</p>\n",
       "</div>"
      ],
      "text/plain": [
       "           sku                                               name      type  \\\n",
       "250    1066224  SanDisk - Extreme PLUS 16GB High-Definition Se...  HardGood   \n",
       "809    1154158  Kingston - 16 GB Secure Digital High Capacity ...  HardGood   \n",
       "1473   1299201  SanDisk - Pixtor 64GB microSDXC Class 10 Memor...  HardGood   \n",
       "1474   1300059  SanDisk - Pixtor 16GB microSDHC Class 10 Memor...  HardGood   \n",
       "1475   1300086  SanDisk - Pixtor 32GB microSDHC Class 10 Memor...  HardGood   \n",
       "...        ...                                                ...       ...   \n",
       "46547  9138514              SanDisk - 8GB SDHC Memory Card - Blue  HardGood   \n",
       "47023  9215725    PNY - 8GB microSDHC Class 4 Memory Card - Black  HardGood   \n",
       "47560  9301149  SanDisk - Extreme Pro 32GB microSDHC Class 10 ...  HardGood   \n",
       "49729  9623158  Kingston - 4GB microSDHC Class 4 Memory Card -...  HardGood   \n",
       "49766  9631906             SanDisk - 16GB SDHC Memory Card - Blue  HardGood   \n",
       "\n",
       "        price           upc  \\\n",
       "250     49.99  619659136055   \n",
       "809     19.99  740617126822   \n",
       "1473    99.99  619659139551   \n",
       "1474    34.99  619659139766   \n",
       "1475    59.99  619659139810   \n",
       "...       ...           ...   \n",
       "46547   19.99  619659039622   \n",
       "47023   14.99  751492412993   \n",
       "47560  164.99  619659119133   \n",
       "49729    8.99  740617120639   \n",
       "49766   29.99  619659055639   \n",
       "\n",
       "                                                category shipping  \\\n",
       "250    [{'id': 'abcat0400000', 'name': 'Cameras & Cam...        0   \n",
       "809    [{'id': 'abcat0400000', 'name': 'Cameras & Cam...     5.49   \n",
       "1473   [{'id': 'abcat0400000', 'name': 'Cameras & Cam...        0   \n",
       "1474   [{'id': 'abcat0400000', 'name': 'Cameras & Cam...        0   \n",
       "1475   [{'id': 'abcat0400000', 'name': 'Cameras & Cam...        0   \n",
       "...                                                  ...      ...   \n",
       "46547  [{'id': 'abcat0400000', 'name': 'Cameras & Cam...        0   \n",
       "47023  [{'id': 'abcat0400000', 'name': 'Cameras & Cam...        0   \n",
       "47560  [{'id': 'abcat0400000', 'name': 'Cameras & Cam...        0   \n",
       "49729  [{'id': 'abcat0400000', 'name': 'Cameras & Cam...     5.49   \n",
       "49766  [{'id': 'abcat0400000', 'name': 'Cameras & Cam...        0   \n",
       "\n",
       "                                             description manufacturer  \\\n",
       "250    Compatible with most Secure Digital High Capac...      SanDisk   \n",
       "809                                                16 GB     Kingston   \n",
       "1473   Compatible with most devices with a microSDXC ...      SanDisk   \n",
       "1474   Compatible with most devices with a microSDHC ...      SanDisk   \n",
       "1475   Compatible with most devices with a microSDHC ...      SanDisk   \n",
       "...                                                  ...          ...   \n",
       "46547  Compatible with digital cameras and camcorders...      SanDisk   \n",
       "47023  Compatible with devices that support microSDHC...          PNY   \n",
       "47560  Compatible with most smartphones, tablets and ...      SanDisk   \n",
       "49729  Compatible with most digital cameras and camco...     Kingston   \n",
       "49766  Compatible with most digital cameras and camco...      SanDisk   \n",
       "\n",
       "                    model                                                url  \\\n",
       "250    SDSDXSF-016G-ANCIN  http://www.bestbuy.com/site/sandisk-extreme-pl...   \n",
       "809              SD4/16GB  http://www.bestbuy.com/site/kingston-16-gb-sec...   \n",
       "1473   SDSQUSC-064G-ABCMA  http://www.bestbuy.com/site/sandisk-pixtor-64g...   \n",
       "1474   SDSQUSC-016G-ABCMA  http://www.bestbuy.com/site/sandisk-pixtor-16g...   \n",
       "1475   SDSQUSC-032G-ABCMA  http://www.bestbuy.com/site/sandisk-pixtor-32g...   \n",
       "...                   ...                                                ...   \n",
       "46547      SDSDB-008G-A46  http://www.bestbuy.com/site/sandisk-8gb-sdhc-m...   \n",
       "47023         P-SDU8GB4-S  http://www.bestbuy.com/site/pny-8gb-microsdhc-...   \n",
       "47560   SDSDQXP-032G-A46A  http://www.bestbuy.com/site/sandisk-extreme-pr...   \n",
       "49729            SDC4/4GB  http://www.bestbuy.com/site/kingston-4gb-micro...   \n",
       "49766      SDSDB-016G-A46  http://www.bestbuy.com/site/sandisk-16gb-sdhc-...   \n",
       "\n",
       "                                                   image         category_id  \n",
       "250    http://img.bbystatic.com/BestBuy_US/images/pro...  pcmcat225800050009  \n",
       "809    http://img.bbystatic.com/BestBuy_US/images/pro...  pcmcat225800050009  \n",
       "1473   http://img.bbystatic.com/BestBuy_US/images/pro...  pcmcat225800050009  \n",
       "1474   http://img.bbystatic.com/BestBuy_US/images/pro...  pcmcat225800050009  \n",
       "1475   http://img.bbystatic.com/BestBuy_US/images/pro...  pcmcat225800050009  \n",
       "...                                                  ...                 ...  \n",
       "46547  http://img.bbystatic.com/BestBuy_US/images/pro...  pcmcat225800050009  \n",
       "47023  http://img.bbystatic.com/BestBuy_US/images/pro...  pcmcat225800050009  \n",
       "47560  http://img.bbystatic.com/BestBuy_US/images/pro...  pcmcat225800050009  \n",
       "49729  http://img.bbystatic.com/BestBuy_US/images/pro...  pcmcat225800050009  \n",
       "49766  http://img.bbystatic.com/BestBuy_US/images/pro...  pcmcat225800050009  \n",
       "\n",
       "[112 rows x 13 columns]"
      ]
     },
     "execution_count": 25,
     "metadata": {},
     "output_type": "execute_result"
    }
   ],
   "source": [
    "products[products[\"category_id\"]==cat_not_in_sample]"
   ]
  },
  {
   "cell_type": "code",
   "execution_count": 26,
   "id": "7a0d3fef-1885-4710-bd26-100616a1316c",
   "metadata": {},
   "outputs": [],
   "source": [
    "top_n_cat = 25"
   ]
  },
  {
   "cell_type": "code",
   "execution_count": 27,
   "id": "6d9c017d-a96c-42b3-a1a3-83ff69134b42",
   "metadata": {},
   "outputs": [
    {
     "data": {
      "text/plain": [
       "category_id\n",
       "pcmcat232900050017    3556\n",
       "abcat0811006          1845\n",
       "pcmcat214700050000    1471\n",
       "pcmcat165900050033     739\n",
       "pcmcat367400050001     689\n",
       "pcmcat310200050004     637\n",
       "pcmcat202800050013     621\n",
       "pcmcat242000050002     508\n",
       "pcmcat226900050013     486\n",
       "abcat0807001           476\n",
       "abcat0515028           432\n",
       "pcmcat332100050000     409\n",
       "pcmcat143000050007     400\n",
       "cat09000               388\n",
       "pcmcat143400050013     350\n",
       "pcmcat251300050004     346\n",
       "pcmcat326000050010     344\n",
       "pcmcat247400050000     343\n",
       "abcat0504010           320\n",
       "pcmcat311200050005     305\n",
       "pcmcat196400050016     303\n",
       "pcmcat748301803023     295\n",
       "pcmcat196400050015     284\n",
       "abcat0807009           276\n",
       "pcmcat344400050007     264\n",
       "Name: count, dtype: int64"
      ]
     },
     "execution_count": 27,
     "metadata": {},
     "output_type": "execute_result"
    }
   ],
   "source": [
    "unique_category.iloc[:top_n_cat]"
   ]
  },
  {
   "cell_type": "code",
   "execution_count": 28,
   "id": "99512c2b-d218-46f4-ad2b-043029e63ec3",
   "metadata": {},
   "outputs": [
    {
     "data": {
      "image/png": "[encoded data removed]",
      "text/plain": [
       "<Figure size 640x480 with 1 Axes>"
      ]
     },
     "metadata": {},
     "output_type": "display_data"
    }
   ],
   "source": [
    "unique_category.iloc[:top_n_cat].plot.barh();"
   ]
  },
  {
   "cell_type": "code",
   "execution_count": 29,
   "id": "cb3e0f65-fdd3-4412-bd65-35d84b33e903",
   "metadata": {},
   "outputs": [],
   "source": [
    "other_cat_value = \"other\""
   ]
  },
  {
   "cell_type": "code",
   "execution_count": 30,
   "id": "3899908a-44ea-46e5-ad80-14ae34b918eb",
   "metadata": {},
   "outputs": [],
   "source": [
    "products[\"label\"] = products[\"category_id\"].where(products[\"category_id\"].isin(valid_category.index), other_cat_value)"
   ]
  },
  {
   "cell_type": "code",
   "execution_count": 31,
   "id": "27c0b3cb-56b5-4468-9a7f-c8f0119661aa",
   "metadata": {},
   "outputs": [
    {
     "data": {
      "text/plain": [
       "label\n",
       "other                 0.461759\n",
       "pcmcat232900050017    0.068853\n",
       "abcat0811006          0.035724\n",
       "pcmcat214700050000    0.028482\n",
       "pcmcat165900050033    0.014309\n",
       "pcmcat367400050001    0.013341\n",
       "pcmcat310200050004    0.012334\n",
       "pcmcat202800050013    0.012024\n",
       "pcmcat242000050002    0.009836\n",
       "pcmcat226900050013    0.009410\n",
       "abcat0807001          0.009217\n",
       "abcat0515028          0.008365\n",
       "pcmcat332100050000    0.007919\n",
       "pcmcat143000050007    0.007745\n",
       "cat09000              0.007513\n",
       "pcmcat143400050013    0.006777\n",
       "pcmcat251300050004    0.006699\n",
       "pcmcat326000050010    0.006661\n",
       "pcmcat247400050000    0.006641\n",
       "abcat0504010          0.006196\n",
       "pcmcat311200050005    0.005906\n",
       "pcmcat196400050016    0.005867\n",
       "pcmcat748301803023    0.005712\n",
       "pcmcat196400050015    0.005499\n",
       "abcat0807009          0.005344\n",
       "Name: proportion, dtype: float64"
      ]
     },
     "execution_count": 31,
     "metadata": {},
     "output_type": "execute_result"
    }
   ],
   "source": [
    "products[\"label\"].value_counts(normalize=True).iloc[:top_n_cat]"
   ]
  },
  {
   "cell_type": "code",
   "execution_count": 32,
   "id": "f5b01d29-d50b-4fdf-b830-ca37455e4c65",
   "metadata": {},
   "outputs": [
    {
     "data": {
      "image/png": "[encoded data removed]",
      "text/plain": [
       "<Figure size 640x480 with 1 Axes>"
      ]
     },
     "metadata": {},
     "output_type": "display_data"
    }
   ],
   "source": [
    "products[\"label\"].value_counts(normalize=False).iloc[:top_n_cat].plot.barh();"
   ]
  },
  {
   "cell_type": "code",
   "execution_count": 33,
   "id": "57863b71-66b9-4f37-8140-d5eb9c6bd34d",
   "metadata": {},
   "outputs": [
    {
     "data": {
      "text/plain": [
       "102"
      ]
     },
     "execution_count": 33,
     "metadata": {},
     "output_type": "execute_result"
    }
   ],
   "source": [
    "products[\"label\"].nunique()"
   ]
  },
  {
   "cell_type": "code",
   "execution_count": 34,
   "id": "20023be6-8588-4149-add3-56a71833e86e",
   "metadata": {},
   "outputs": [],
   "source": [
    "features = [\"name\", \"description\", \"price\", \"manufacturer\"]"
   ]
  },
  {
   "cell_type": "code",
   "execution_count": 35,
   "id": "aa0a25e7-5763-4191-aea4-860d3fe082a5",
   "metadata": {},
   "outputs": [
    {
     "data": {
      "text/plain": [
       "name            0.000019\n",
       "description     0.000000\n",
       "price           0.000000\n",
       "manufacturer    0.001200\n",
       "dtype: float64"
      ]
     },
     "execution_count": 35,
     "metadata": {},
     "output_type": "execute_result"
    }
   ],
   "source": [
    "products[features].isna().sum() / products.shape[0]"
   ]
  },
  {
   "cell_type": "code",
   "execution_count": 39,
   "id": "03e253e8-30b1-4095-b2a8-3ef4d47e3297",
   "metadata": {},
   "outputs": [],
   "source": [
    "data = products[features]\n",
    "label = products[\"label\"]"
   ]
  },
  {
   "cell_type": "code",
   "execution_count": 40,
   "id": "665e4bf2-c928-43cb-83f7-edfa70b354e3",
   "metadata": {},
   "outputs": [
    {
     "data": {
      "text/plain": [
       "((51646, 4), (51646,))"
      ]
     },
     "execution_count": 40,
     "metadata": {},
     "output_type": "execute_result"
    }
   ],
   "source": [
    "data.shape, label.shape"
   ]
  },
  {
   "cell_type": "code",
   "execution_count": null,
   "id": "a91aa6c7-aaa9-48da-b532-714bd3e1c4fa",
   "metadata": {},
   "outputs": [],
   "source": []
  },
  {
   "cell_type": "code",
   "execution_count": null,
   "id": "416e098e-68c8-4875-ba14-3e63b325e2ed",
   "metadata": {},
   "outputs": [],
   "source": []
  }
 ],
 "metadata": {
  "kernelspec": {
   "display_name": "Python 3 (ipykernel)",
   "language": "python",
   "name": "python3"
  },
  "language_info": {
   "codemirror_mode": {
    "name": "ipython",
    "version": 3
   },
   "file_extension": ".py",
   "mimetype": "text/x-python",
   "name": "python",
   "nbconvert_exporter": "python",
   "pygments_lexer": "ipython3",
   "version": "3.11.6"
  }
 },
 "nbformat": 4,
 "nbformat_minor": 5
}
