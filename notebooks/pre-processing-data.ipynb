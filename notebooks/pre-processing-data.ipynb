{
 "cells": [
  {
   "cell_type": "code",
   "execution_count": 1,
   "id": "9d0eaf96-fc4c-4bfc-bd52-be2a9dd38e80",
   "metadata": {},
   "outputs": [],
   "source": [
    "import pandas as pd\n",
    "import os\n",
    "from sklearn.preprocessing import LabelEncoder\n",
    "import pickle"
   ]
  },
  {
   "cell_type": "code",
   "execution_count": 2,
   "id": "25bffb98-0ace-4d05-8674-7fee8f1d44db",
   "metadata": {},
   "outputs": [],
   "source": [
    "products_path = \"../data/raw/products.json.gz\"\n",
    "data_pre_processing_folder =  \"../data/pre-processing/\"\n",
    "data_pre_processing_name = \"data.csv\"\n",
    "label_pre_processing_name = \"label.csv\"\n",
    "label_encoder_path = \"../models/encoder/label_encoder.pkl\""
   ]
  },
  {
   "cell_type": "code",
   "execution_count": 3,
   "id": "fbf403e3-e97d-4262-9720-b7731ba568c7",
   "metadata": {},
   "outputs": [],
   "source": [
    "products = pd.read_json(products_path, compression=\"gzip\")"
   ]
  },
  {
   "cell_type": "code",
   "execution_count": 4,
   "id": "759b9bdb-2315-42e6-84bb-bcc6f146b848",
   "metadata": {},
   "outputs": [],
   "source": [
    "products[\"category_id\"] = products[\"category\"].apply(lambda x: x[-1][\"id\"])"
   ]
  },
  {
   "cell_type": "code",
   "execution_count": 5,
   "id": "8585e696-3229-477c-a703-80bcf6ebcb1d",
   "metadata": {},
   "outputs": [],
   "source": [
    "min_value = 100\n",
    "other_cat_value = \"other\"\n",
    "fill_nan_values_string = 'null'"
   ]
  },
  {
   "cell_type": "code",
   "execution_count": 6,
   "id": "d7a705ea-2996-47f8-a621-ffabc6baf214",
   "metadata": {},
   "outputs": [],
   "source": [
    "unique_category = products[\"category_id\"].value_counts(normalize=False)\n",
    "valid_category = unique_category[unique_category>=min_value]"
   ]
  },
  {
   "cell_type": "code",
   "execution_count": 7,
   "id": "cf55d13a-831c-46bc-ab84-6ed4bd59fca7",
   "metadata": {},
   "outputs": [],
   "source": [
    "products[\"label\"] = products[\"category_id\"].where(products[\"category_id\"].isin(valid_category.index), other_cat_value)"
   ]
  },
  {
   "cell_type": "code",
   "execution_count": 8,
   "id": "1eafa299-4c5a-4257-89d6-db3a69e8c2f6",
   "metadata": {},
   "outputs": [],
   "source": [
    "features = [\"name\", \"description\"]"
   ]
  },
  {
   "cell_type": "code",
   "execution_count": 9,
   "id": "9486c4e7-f390-4213-9f6b-ec4d6d9c5ffc",
   "metadata": {},
   "outputs": [
    {
     "name": "stdout",
     "output_type": "stream",
     "text": [
      "name object\n",
      "description object\n"
     ]
    }
   ],
   "source": [
    "for feature, type in products[features].dtypes.to_dict().items():\n",
    "    print(feature, type)\n",
    "    products[feature] = products[feature].fillna(fill_nan_values_string)"
   ]
  },
  {
   "cell_type": "code",
   "execution_count": 10,
   "id": "542b1d31-ff60-45ef-9635-d6fdfbaf2c07",
   "metadata": {},
   "outputs": [],
   "source": [
    "products[\"text\"] = products[\"name\"] + \" \" + products[\"description\"]"
   ]
  },
  {
   "cell_type": "code",
   "execution_count": 11,
   "id": "1f4059a0-4940-425e-b068-1323efa77cb9",
   "metadata": {},
   "outputs": [],
   "source": [
    "le = LabelEncoder()"
   ]
  },
  {
   "cell_type": "code",
   "execution_count": 12,
   "id": "ba7a4ffb-51e1-4a88-8029-2e8fa03d7a52",
   "metadata": {},
   "outputs": [
    {
     "data": {
      "text/html": [
       "<style>#sk-container-id-1 {color: black;background-color: white;}#sk-container-id-1 pre{padding: 0;}#sk-container-id-1 div.sk-toggleable {background-color: white;}#sk-container-id-1 label.sk-toggleable__label {cursor: pointer;display: block;width: 100%;margin-bottom: 0;padding: 0.3em;box-sizing: border-box;text-align: center;}#sk-container-id-1 label.sk-toggleable__label-arrow:before {content: \"▸\";float: left;margin-right: 0.25em;color: #696969;}#sk-container-id-1 label.sk-toggleable__label-arrow:hover:before {color: black;}#sk-container-id-1 div.sk-estimator:hover label.sk-toggleable__label-arrow:before {color: black;}#sk-container-id-1 div.sk-toggleable__content {max-height: 0;max-width: 0;overflow: hidden;text-align: left;background-color: #f0f8ff;}#sk-container-id-1 div.sk-toggleable__content pre {margin: 0.2em;color: black;border-radius: 0.25em;background-color: #f0f8ff;}#sk-container-id-1 input.sk-toggleable__control:checked~div.sk-toggleable__content {max-height: 200px;max-width: 100%;overflow: auto;}#sk-container-id-1 input.sk-toggleable__control:checked~label.sk-toggleable__label-arrow:before {content: \"▾\";}#sk-container-id-1 div.sk-estimator input.sk-toggleable__control:checked~label.sk-toggleable__label {background-color: #d4ebff;}#sk-container-id-1 div.sk-label input.sk-toggleable__control:checked~label.sk-toggleable__label {background-color: #d4ebff;}#sk-container-id-1 input.sk-hidden--visually {border: 0;clip: rect(1px 1px 1px 1px);clip: rect(1px, 1px, 1px, 1px);height: 1px;margin: -1px;overflow: hidden;padding: 0;position: absolute;width: 1px;}#sk-container-id-1 div.sk-estimator {font-family: monospace;background-color: #f0f8ff;border: 1px dotted black;border-radius: 0.25em;box-sizing: border-box;margin-bottom: 0.5em;}#sk-container-id-1 div.sk-estimator:hover {background-color: #d4ebff;}#sk-container-id-1 div.sk-parallel-item::after {content: \"\";width: 100%;border-bottom: 1px solid gray;flex-grow: 1;}#sk-container-id-1 div.sk-label:hover label.sk-toggleable__label {background-color: #d4ebff;}#sk-container-id-1 div.sk-serial::before {content: \"\";position: absolute;border-left: 1px solid gray;box-sizing: border-box;top: 0;bottom: 0;left: 50%;z-index: 0;}#sk-container-id-1 div.sk-serial {display: flex;flex-direction: column;align-items: center;background-color: white;padding-right: 0.2em;padding-left: 0.2em;position: relative;}#sk-container-id-1 div.sk-item {position: relative;z-index: 1;}#sk-container-id-1 div.sk-parallel {display: flex;align-items: stretch;justify-content: center;background-color: white;position: relative;}#sk-container-id-1 div.sk-item::before, #sk-container-id-1 div.sk-parallel-item::before {content: \"\";position: absolute;border-left: 1px solid gray;box-sizing: border-box;top: 0;bottom: 0;left: 50%;z-index: -1;}#sk-container-id-1 div.sk-parallel-item {display: flex;flex-direction: column;z-index: 1;position: relative;background-color: white;}#sk-container-id-1 div.sk-parallel-item:first-child::after {align-self: flex-end;width: 50%;}#sk-container-id-1 div.sk-parallel-item:last-child::after {align-self: flex-start;width: 50%;}#sk-container-id-1 div.sk-parallel-item:only-child::after {width: 0;}#sk-container-id-1 div.sk-dashed-wrapped {border: 1px dashed gray;margin: 0 0.4em 0.5em 0.4em;box-sizing: border-box;padding-bottom: 0.4em;background-color: white;}#sk-container-id-1 div.sk-label label {font-family: monospace;font-weight: bold;display: inline-block;line-height: 1.2em;}#sk-container-id-1 div.sk-label-container {text-align: center;}#sk-container-id-1 div.sk-container {/* jupyter's `normalize.less` sets `[hidden] { display: none; }` but bootstrap.min.css set `[hidden] { display: none !important; }` so we also need the `!important` here to be able to override the default hidden behavior on the sphinx rendered scikit-learn.org. See: https://github.com/scikit-learn/scikit-learn/issues/21755 */display: inline-block !important;position: relative;}#sk-container-id-1 div.sk-text-repr-fallback {display: none;}</style><div id=\"sk-container-id-1\" class=\"sk-top-container\"><div class=\"sk-text-repr-fallback\"><pre>LabelEncoder()</pre><b>In a Jupyter environment, please rerun this cell to show the HTML representation or trust the notebook. <br />On GitHub, the HTML representation is unable to render, please try loading this page with nbviewer.org.</b></div><div class=\"sk-container\" hidden><div class=\"sk-item\"><div class=\"sk-estimator sk-toggleable\"><input class=\"sk-toggleable__control sk-hidden--visually\" id=\"sk-estimator-id-1\" type=\"checkbox\" checked><label for=\"sk-estimator-id-1\" class=\"sk-toggleable__label sk-toggleable__label-arrow\">LabelEncoder</label><div class=\"sk-toggleable__content\"><pre>LabelEncoder()</pre></div></div></div></div></div>"
      ],
      "text/plain": [
       "LabelEncoder()"
      ]
     },
     "execution_count": 12,
     "metadata": {},
     "output_type": "execute_result"
    }
   ],
   "source": [
    "le.fit(products[\"label\"])"
   ]
  },
  {
   "cell_type": "code",
   "execution_count": 13,
   "id": "3cb0937f-9079-4225-bb31-89240b589ea2",
   "metadata": {},
   "outputs": [],
   "source": [
    "products[\"label\"] = le.transform(products[\"label\"])"
   ]
  },
  {
   "cell_type": "code",
   "execution_count": 14,
   "id": "1a68b6e2-9223-48de-bb44-0dc69b2b3aee",
   "metadata": {},
   "outputs": [],
   "source": [
    "data = products[\"text\"]\n",
    "label = products[\"label\"]"
   ]
  },
  {
   "cell_type": "code",
   "execution_count": 15,
   "id": "21930aa6-46d5-4dc0-9f2a-fdb992a8d52c",
   "metadata": {},
   "outputs": [
    {
     "data": {
      "text/plain": [
       "((51646,), (51646,))"
      ]
     },
     "execution_count": 15,
     "metadata": {},
     "output_type": "execute_result"
    }
   ],
   "source": [
    "data.shape, label.shape"
   ]
  },
  {
   "cell_type": "code",
   "execution_count": 16,
   "id": "f9963839-5e82-45ca-8ff3-e545cb92fcee",
   "metadata": {},
   "outputs": [],
   "source": [
    "assert data.shape[0] == label.shape[0]\n",
    "assert data.isna().sum().sum() == 0\n",
    "assert label.isna().sum().sum() == 0"
   ]
  },
  {
   "cell_type": "code",
   "execution_count": 17,
   "id": "e10caf2f-b61b-427f-a38b-1f8b7abfeb2d",
   "metadata": {},
   "outputs": [],
   "source": [
    "if not os.path.exists(data_pre_processing_folder):\n",
    "    os.makedirs(data_pre_processing_folder)\n",
    "data.to_csv(data_pre_processing_folder+data_pre_processing_name, index=None)\n",
    "label.to_csv(data_pre_processing_folder+label_pre_processing_name, index=None)"
   ]
  },
  {
   "cell_type": "code",
   "execution_count": 18,
   "id": "58670241-91ad-4b73-b820-961d6e2cfde5",
   "metadata": {},
   "outputs": [],
   "source": [
    "output = open(label_encoder_path, 'wb')\n",
    "pickle.dump(le, output)\n",
    "output.close()"
   ]
  }
 ],
 "metadata": {
  "kernelspec": {
   "display_name": "Python 3",
   "language": "python",
   "name": "python3"
  },
  "language_info": {
   "codemirror_mode": {
    "name": "ipython",
    "version": 3
   },
   "file_extension": ".py",
   "mimetype": "text/x-python",
   "name": "python",
   "nbconvert_exporter": "python",
   "pygments_lexer": "ipython3",
   "version": "3.11.5"
  }
 },
 "nbformat": 4,
 "nbformat_minor": 5
}
